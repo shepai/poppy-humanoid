{
 "cells": [
  {
   "cell_type": "markdown",
   "metadata": {},
   "source": [
    "# test program"
   ]
  },
  {
   "cell_type": "code",
   "execution_count": 1,
   "metadata": {},
   "outputs": [
    {
     "name": "stderr",
     "output_type": "stream",
     "text": [
      "pybullet build time: Nov 28 2023 23:45:17\n"
     ]
    },
    {
     "ename": "ModuleNotFoundError",
     "evalue": "No module named 'CPG'",
     "output_type": "error",
     "traceback": [
      "\u001b[0;31m---------------------------------------------------------------------------\u001b[0m",
      "\u001b[0;31mModuleNotFoundError\u001b[0m                       Traceback (most recent call last)",
      "Cell \u001b[0;32mIn[1], line 8\u001b[0m\n\u001b[1;32m      5\u001b[0m \u001b[39mfrom\u001b[39;00m \u001b[39menvironment\u001b[39;00m \u001b[39mimport\u001b[39;00m \u001b[39m*\u001b[39m\n\u001b[1;32m      7\u001b[0m sys\u001b[39m.\u001b[39mpath\u001b[39m.\u001b[39minsert(\u001b[39m1\u001b[39m, \u001b[39m'\u001b[39m\u001b[39mC:/Users/dexte/Documents/GitHub/Quadruped/Code\u001b[39m\u001b[39m'\u001b[39m)\n\u001b[0;32m----> 8\u001b[0m \u001b[39mfrom\u001b[39;00m \u001b[39mCPG\u001b[39;00m \u001b[39mimport\u001b[39;00m \u001b[39m*\u001b[39m\n\u001b[1;32m     10\u001b[0m \u001b[39mclass\u001b[39;00m \u001b[39mnewCPG\u001b[39;00m(CTRNNQuadruped):\n\u001b[1;32m     11\u001b[0m     \u001b[39mdef\u001b[39;00m \u001b[39mget_positions\u001b[39m(\u001b[39mself\u001b[39m,inputs,motors\u001b[39m=\u001b[39m\u001b[39mNone\u001b[39;00m):\n",
      "\u001b[0;31mModuleNotFoundError\u001b[0m: No module named 'CPG'"
     ]
    }
   ],
   "source": [
    "import time\n",
    "import numpy as np\n",
    "from poppyControl import *\n",
    "import sys\n",
    "from environment import *\n",
    "\n",
    "sys.path.insert(1, '/its/home/drs25/Documents/GitHub/Quadruped/Code')\n",
    "sys.path.insert(1, 'C:/Users/dexte/Documents/GitHub/Quadruped/Code')\n",
    "from CPG import *\n",
    "\n",
    "class newCPG(CTRNNQuadruped):\n",
    "    def get_positions(self,inputs,motors=None):\n",
    "        degrees=np.degrees(self.step(imu_feedback=0, velocity_feedback=0))/2\n",
    "        degrees=np.clip(degrees,0,180)\n",
    "        return degrees\n",
    "    def step(self, imu_feedback, velocity_feedback):\n",
    "        \"\"\"Update the CTRNN for one timestep.\"\"\"\n",
    "        #compute neural activations (discrete update of CTRNN)\n",
    "        net_input = self.weights @ self.outputs + self.biases\n",
    "        self.activations += self.dt / self.tau * (-self.activations + net_input)\n",
    "        self.outputs = self.sigmoid(self.activations)  #apply activation function\n",
    "        #add oscillatory gait modulation\n",
    "        self.phases += self.dt * self.omega\n",
    "        oscillation = np.sin(self.phases)\n",
    "        #compute motor commands (combining CTRNN output and oscillations)\n",
    "        motor_commands = self.outputs#np.concatenate([self.outputs[0:3],self.outputs[0:3],self.outputs[0:3],self.outputs[0:3]]) + 0.5 * oscillation\n",
    "        #apply IMU feedback for balance correction (modify hip joints)\n",
    "        imu_correction = self.Kp_imu * imu_feedback  # Pitch correction\n",
    "        motor_commands[::3] += imu_correction  # Adjust hips\n",
    "        #apply velocity feedback for adaptive stride length (modify knees)\n",
    "        velocity_correction = self.Kp_vel * velocity_feedback\n",
    "        motor_commands[1::3] += velocity_correction  # Adjust knee motors\n",
    "        return np.clip(motor_commands, 0, 1)  # Return motor positions (normalized)"
   ]
  },
  {
   "cell_type": "code",
   "execution_count": null,
   "metadata": {},
   "outputs": [],
   "source": [
    "env=environment(1,friction=1)\n",
    "env.reset()"
   ]
  },
  {
   "cell_type": "code",
   "execution_count": 63,
   "metadata": {},
   "outputs": [
    {
     "name": "stdout",
     "output_type": "stream",
     "text": [
      "commence trial...\n",
      "move\n",
      "trial done\n"
     ]
    }
   ],
   "source": [
    "#0,1,2,3,4 leg 1 (4 being foot)\n",
    "#5,6,7,8,9 leg 2 (9 being foot)\n",
    "# 10, 11, 12 being hips\n",
    "# 13 being chest twist\n",
    "# 14 being chest \n",
    "# 15 neck twist\n",
    "# 16 neck tilt\n",
    "# 17 18 19 20 left arm\n",
    "# 21 22 23 24 right arm\n",
    "cpg=newCPG(num_n=25)\n",
    "print(\"commence trial...\")\n",
    "#env.runTrial(cpg,500,1)\n",
    "print(\"move\")\n",
    "action=np.zeros((25))\n",
    "action[21]=-200\n",
    "env.quad.setPositions(action)\n",
    "for k in range(100): #update simulation\n",
    "    p.stepSimulation()\n",
    "    time.sleep(1./240.)\n",
    "    basePos, baseOrn = p.getBasePositionAndOrientation(env.robot_id) # Get model position\n",
    "    p.resetDebugVisualizerCamera( cameraDistance=0.8, cameraYaw=75, cameraPitch=-20, cameraTargetPosition=basePos) # fix camera onto model\n",
    "print(\"trial done\")\n"
   ]
  },
  {
   "cell_type": "code",
   "execution_count": 4,
   "metadata": {},
   "outputs": [
    {
     "name": "stdout",
     "output_type": "stream",
     "text": [
      "move\n",
      "trial done\n"
     ]
    }
   ],
   "source": [
    "print(\"move\")\n",
    "action=np.zeros((25))\n",
    "action[0]=100\n",
    "env.step(cpg,action,1,step=300)\n",
    "print(\"trial done\")\n",
    "\n"
   ]
  }
 ],
 "metadata": {
  "kernelspec": {
   "display_name": "Python 3",
   "language": "python",
   "name": "python3"
  },
  "language_info": {
   "codemirror_mode": {
    "name": "ipython",
    "version": 3
   },
   "file_extension": ".py",
   "mimetype": "text/x-python",
   "name": "python",
   "nbconvert_exporter": "python",
   "pygments_lexer": "ipython3",
   "version": "3.10.8"
  }
 },
 "nbformat": 4,
 "nbformat_minor": 2
}
